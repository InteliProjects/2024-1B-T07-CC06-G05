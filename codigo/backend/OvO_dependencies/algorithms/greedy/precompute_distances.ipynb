{
 "cells": [
  {
   "cell_type": "code",
   "execution_count": null,
   "metadata": {},
   "outputs": [],
   "source": [
    "import pandas as pd\n",
    "import numpy as np\n",
    "from sklearn.cluster import KMeans\n",
    "import geohash2\n",
    "import os\n",
    "from haversine import haversine, Unit"
   ]
  },
  {
   "cell_type": "code",
   "execution_count": null,
   "metadata": {},
   "outputs": [],
   "source": [
    "data = pd.read_csv('./clustered_data/geohash_75cjt_cluster_0.csv')"
   ]
  },
  {
   "cell_type": "code",
   "execution_count": null,
   "metadata": {},
   "outputs": [],
   "source": [
    "def apply_geohash(lat, lon, precision=5):\n",
    "    return geohash2.encode(lat, lon, precision=precision)"
   ]
  },
  {
   "cell_type": "code",
   "execution_count": null,
   "metadata": {},
   "outputs": [],
   "source": [
    "data['geohash'] = data.apply(lambda row: apply_geohash(row['LATITUDE'], row['LONGITUDE']), axis=1)"
   ]
  },
  {
   "cell_type": "code",
   "execution_count": null,
   "metadata": {},
   "outputs": [],
   "source": [
    "grouped = data.groupby('geohash')"
   ]
  },
  {
   "cell_type": "code",
   "execution_count": null,
   "metadata": {},
   "outputs": [],
   "source": [
    "output_dir = 'clustered_data'\n",
    "os.makedirs(output_dir, exist_ok=True)"
   ]
  },
  {
   "cell_type": "code",
   "execution_count": null,
   "metadata": {},
   "outputs": [],
   "source": [
    "for geohash, group in grouped:\n",
    "    num_clusters = min(len(group), 5)\n",
    "    if num_clusters > 1:\n",
    "        kmeans = KMeans(n_clusters=num_clusters)\n",
    "        kmeans.fit(group[['LATITUDE', 'LONGITUDE']])\n",
    "        group['cluster_label'] = kmeans.labels_\n",
    "    else:\n",
    "        group['cluster_label'] = 0\n",
    "    \n",
    "    clusters = group.groupby('cluster_label')\n",
    "    for label, cluster in clusters:\n",
    "        filename = f\"{output_dir}/geohash_{geohash}_cluster_{label}.csv\"\n",
    "        cluster.to_csv(filename, index=False)\n",
    "        print(f\"Output written to {filename}\")\n",
    "\n",
    "        coords = cluster[['LATITUDE', 'LONGITUDE']].to_numpy()\n",
    "        n = len(coords)\n",
    "        distance_matrix = np.zeros((n, n))\n",
    "        for i in range(n):\n",
    "            for j in range(i + 1, n):\n",
    "                distance_matrix[i, j] = distance_matrix[j, i] = haversine(coords[i], coords[j], unit=Unit.KILOMETERS)\n",
    "\n",
    "        distance_filename = f\"{output_dir}/geohash_{geohash}_cluster_{label}_distances.csv\"\n",
    "        np.savetxt(distance_filename, distance_matrix, delimiter=',')\n",
    "        print(f\"Distance matrix written to {distance_filename}\")"
   ]
  }
 ],
 "metadata": {
  "kernelspec": {
   "display_name": "Python 3",
   "language": "python",
   "name": "python3"
  },
  "language_info": {
   "codemirror_mode": {
    "name": "ipython",
    "version": 3
   },
   "file_extension": ".py",
   "mimetype": "text/x-python",
   "name": "python",
   "nbconvert_exporter": "python",
   "pygments_lexer": "ipython3",
   "version": "3.11.9"
  }
 },
 "nbformat": 4,
 "nbformat_minor": 2
}
