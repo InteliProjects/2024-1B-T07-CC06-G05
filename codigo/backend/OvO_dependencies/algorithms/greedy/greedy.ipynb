{
 "cells": [
  {
   "cell_type": "code",
   "execution_count": null,
   "metadata": {},
   "outputs": [],
   "source": [
    "import csv\n",
    "import numpy as np\n",
    "import matplotlib.pyplot as plt\n",
    "import pandas as pd"
   ]
  },
  {
   "cell_type": "code",
   "execution_count": null,
   "metadata": {},
   "outputs": [],
   "source": [
    "def load_coordinates(filename):\n",
    "    with open(filename) as f:\n",
    "        reader = csv.reader(f)\n",
    "        next(reader)\n",
    "        return np.array([[float(row[1]), float(row[2])] for row in reader])\n",
    "        "
   ]
  },
  {
   "cell_type": "code",
   "execution_count": null,
   "metadata": {},
   "outputs": [],
   "source": [
    "def load_distances(file_path):\n",
    "    with open(file_path, 'r') as file:\n",
    "        reader = csv.reader(file)\n",
    "        distances = [[float(value) for value in row] for row in reader]\n",
    "    return np.array(distances)"
   ]
  },
  {
   "cell_type": "code",
   "execution_count": null,
   "metadata": {},
   "outputs": [],
   "source": [
    "def greedy_tsp(distances,qtd_matrix):\n",
    "    num_nodes = len(distances)\n",
    "    visited = [False] * num_nodes\n",
    "    path = [0]\n",
    "    visited[0] = True\n",
    "    dist =0\n",
    "    time = 0\n",
    "\n",
    "    for _ in range(1, num_nodes):\n",
    "        last = path[-1]\n",
    "        next_node = min(\n",
    "            [(i, dist) for i, dist in enumerate(distances[last]) if not visited[i]],\n",
    "            key=lambda x: x[1]\n",
    "        )[0]\n",
    "        dist+= distances[last][next_node]\n",
    "        time += distances[last][next_node]/5 +(2/60)*qtd_matrix[last]\n",
    "\n",
    "        visited[next_node] = True\n",
    "        path.append(next_node)\n",
    "   \n",
    "    return {'sequence':path,'distance':dist,'time':time}"
   ]
  },
  {
   "cell_type": "markdown",
   "metadata": {},
   "source": [
    "# Teste TSP greedy"
   ]
  },
  {
   "cell_type": "markdown",
   "metadata": {},
   "source": [
    "###### Nesta seção testamos o algoritmo greedy para todos os clusters criados. Separamos os dados por leiturista e executamos um tsp para cada um dos 22 dias."
   ]
  },
  {
   "cell_type": "code",
   "execution_count": null,
   "metadata": {},
   "outputs": [],
   "source": [
    "data = pd.read_csv('../clusterizacao/dados_tratados_clusterizados.csv')\n",
    "data.columns"
   ]
  },
  {
   "cell_type": "code",
   "execution_count": null,
   "metadata": {},
   "outputs": [],
   "source": [
    "from haversine import haversine, Unit\n",
    "data = pd.read_csv('../clusterizacao/dados_tratados_clusterizados.csv')\n",
    "grouped=data.groupby('cluster_leiturista')\n",
    "solutions =[]\n",
    "for _, group in grouped:\n",
    "   \n",
    "    clusters = group.groupby('cluster_dia')\n",
    "    solution_leiturista = []\n",
    "    solution_distance = 0\n",
    "\n",
    "    for label, cluster in clusters:\n",
    "        coords = cluster[['LATITUDE', 'LONGITUDE']].to_numpy()\n",
    "        n = len(coords)\n",
    "        distance_matrix = np.zeros((n, n))\n",
    "        qtd_matrix = cluster['QUANTIDADE_HIDROMETROS'].values\n",
    "        qtd_matrix=np.insert(qtd_matrix,[0],[0],axis=0)\n",
    "        for i in range(n):\n",
    "            for j in range(i + 1, n):\n",
    "                distance_matrix[i, j] = distance_matrix[j, i] = haversine(coords[i], coords[j], unit=Unit.KILOMETERS)\n",
    "\n",
    "        solution = greedy_tsp(distances=distance_matrix,qtd_matrix=qtd_matrix)\n",
    "        solution_leiturista.append({f\"sequence_dia_{cluster['cluster_dia'].values[0]}\":solution['sequence'],f\"distance_dia_{cluster['cluster_dia'].values[0]}\":solution['distance'],f\"tempo_dia_{cluster['cluster_dia'].values[0]}\":solution['time']})\n",
    "    solutions.append({f\"leiturista{group['cluster_leiturista'].values[0]}\":solution_leiturista})\n",
    "\n",
    "pd.DataFrame(solutions).to_json('./tsp_greedy_teste_AMOSTRA_TOTAL.json',indent=2)"
   ]
  },
  {
   "cell_type": "code",
   "execution_count": null,
   "metadata": {},
   "outputs": [],
   "source": [
    "import json\n",
    "import matplotlib.pyplot as plt\n",
    "\n",
    "# Carrega os dados originais para obter as coordenadas\n",
    "data = pd.read_csv('../../clusterizacao/dados_tratados_clusterizados_10_10.csv')\n",
    "\n",
    "# Carrega o arquivo JSON com os resultados do TSP\n",
    "with open('./tsp_greedy_teste_AMOSTRA_TOTAL2.json') as file:\n",
    "    tsp_results = json.load(file)\n",
    "\n",
    "# Preparar a plotagem\n",
    "fig, ax = plt.subplots(figsize=(12, 8))\n",
    "\n",
    "# Gerar uma paleta de cores baseada no número de leituristas\n",
    "color_map = plt.cm.get_cmap('viridis', len(tsp_results))\n",
    "\n",
    "for idx, (leiturista, days) in enumerate(tsp_results.items()):\n",
    "    for day_data in days.values():\n",
    "        for route in day_data:\n",
    "            # Extrai os índices das sequências visitadas\n",
    "            sequence_idx = route['sequence_dia_10']\n",
    "            # Recupera as coordenadas\n",
    "            coords = data.loc[sequence_idx, ['LATITUDE', 'LONGITUDE']].values\n",
    "\n",
    "            # Plotar a rota\n",
    "            ax.plot(coords[:, 1], coords[:, 0], marker='o', linestyle='-', color=color_map(idx), label=f'{leiturista}, Dia 10')\n",
    "            ax.text(coords[0, 1], coords[0, 0], 'Start', color=color_map(idx))\n",
    "            ax.text(coords[-1, 1], coords[-1, 0], 'End', color=color_map(idx))\n",
    "\n",
    "ax.set_title('Visualização das Rotas TSP')\n",
    "ax.set_xlabel('Longitude')\n",
    "ax.set_ylabel('Latitude')\n",
    "ax.legend()\n",
    "plt.show()\n"
   ]
  },
  {
   "cell_type": "code",
   "execution_count": null,
   "metadata": {},
   "outputs": [],
   "source": [
    "# distance_file_path = '.\\clustered_data\\geohash_75cjt_cluster_0_distances.csv'\n",
    "# distances = load_distances(distance_file_path)\n",
    "# optimal_path = greedy_tsp(distances)\n",
    "# coordinates = load_coordinates('.\\clustered_data\\geohash_75cjt_cluster_0.csv')"
   ]
  },
  {
   "cell_type": "code",
   "execution_count": null,
   "metadata": {},
   "outputs": [],
   "source": [
    "# print(\"Optimal Path:\", optimal_path)"
   ]
  },
  {
   "cell_type": "code",
   "execution_count": null,
   "metadata": {},
   "outputs": [],
   "source": [
    "def visualize_path_geo(lat_lon_coords, path):\n",
    "    latitudes = [lat_lon_coords[i][0] for i in path]\n",
    "    longitudes = [lat_lon_coords[i][1] for i in path]\n",
    "    \n",
    "    latitudes.append(lat_lon_coords[path[0]][0])\n",
    "    longitudes.append(lat_lon_coords[path[0]][1])\n",
    "\n",
    "    plt.figure(figsize=(10, 6))\n",
    "    plt.plot(longitudes, latitudes, marker='o')\n",
    "    for index, (lat, lon) in enumerate(lat_lon_coords):\n",
    "        plt.text(lon, lat, str(index), fontsize=12)\n",
    "\n",
    "    plt.xlabel('Longitude')\n",
    "    plt.ylabel('Latitude')\n",
    "    plt.title('Traveling Salesman Path Visualization (Geographic Coordinates)')\n",
    "    plt.grid(True)\n",
    "    plt.show()\n",
    "\n",
    "lat_lon_coords = coordinates\n",
    "\n",
    "path = optimal_path\n",
    "\n",
    "visualize_path_geo(lat_lon_coords, path)"
   ]
  }
 ],
 "metadata": {
  "kernelspec": {
   "display_name": "Python 3",
   "language": "python",
   "name": "python3"
  },
  "language_info": {
   "codemirror_mode": {
    "name": "ipython",
    "version": 3
   },
   "file_extension": ".py",
   "mimetype": "text/x-python",
   "name": "python",
   "nbconvert_exporter": "python",
   "pygments_lexer": "ipython3",
   "version": "3.12.3"
  }
 },
 "nbformat": 4,
 "nbformat_minor": 2
}
