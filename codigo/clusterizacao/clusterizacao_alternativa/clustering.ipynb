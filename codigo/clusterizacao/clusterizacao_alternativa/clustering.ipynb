{
 "cells": [
  {
   "cell_type": "code",
   "execution_count": null,
   "metadata": {},
   "outputs": [],
   "source": [
    "import pandas as pd\n",
    "from sklearn.cluster import KMeans\n",
    "import geohash2\n",
    "import os"
   ]
  },
  {
   "cell_type": "code",
   "execution_count": null,
   "metadata": {},
   "outputs": [],
   "source": [
    "data = pd.read_csv('../dados/dados_tratados/dados_tratados.csv')"
   ]
  },
  {
   "cell_type": "code",
   "execution_count": null,
   "metadata": {},
   "outputs": [],
   "source": [
    "def apply_geohash(lat, lon, precision=5):\n",
    "    return geohash2.encode(lat, lon, precision=precision)"
   ]
  },
  {
   "cell_type": "code",
   "execution_count": null,
   "metadata": {},
   "outputs": [],
   "source": [
    "data['geohash'] = data.apply(lambda row: apply_geohash(row['LATITUDE'], row['LONGITUDE']), axis=1)"
   ]
  },
  {
   "cell_type": "code",
   "execution_count": null,
   "metadata": {},
   "outputs": [],
   "source": [
    "grouped = data.groupby('geohash')"
   ]
  },
  {
   "cell_type": "code",
   "execution_count": null,
   "metadata": {},
   "outputs": [],
   "source": [
    "output_dir = 'clustered_data'\n",
    "os.makedirs(output_dir, exist_ok=True)"
   ]
  },
  {
   "cell_type": "code",
   "execution_count": null,
   "metadata": {},
   "outputs": [],
   "source": [
    "for geohash, group in grouped:\n",
    "    num_clusters = min(len(group), 5)\n",
    "    if num_clusters > 1:\n",
    "        kmeans = KMeans(n_clusters=num_clusters)\n",
    "        kmeans.fit(group[['LATITUDE', 'LONGITUDE']])\n",
    "        group['cluster_label'] = kmeans.labels_\n",
    "    else:\n",
    "        group['cluster_label'] = 0\n",
    "    \n",
    "    clusters = group.groupby('cluster_label')\n",
    "    for label, cluster in clusters:\n",
    "        filename = f\"{output_dir}/geohash_{geohash}_cluster_{label}.csv\"\n",
    "        cluster.to_csv(filename, index=False)\n",
    "        print(f\"Output written to {filename}\")"
   ]
  }
 ],
 "metadata": {
  "kernelspec": {
   "display_name": "Python 3",
   "language": "python",
   "name": "python3"
  },
  "language_info": {
   "codemirror_mode": {
    "name": "ipython",
    "version": 3
   },
   "file_extension": ".py",
   "mimetype": "text/x-python",
   "name": "python",
   "nbconvert_exporter": "python",
   "pygments_lexer": "ipython3",
   "version": "3.11.9"
  }
 },
 "nbformat": 4,
 "nbformat_minor": 2
}
